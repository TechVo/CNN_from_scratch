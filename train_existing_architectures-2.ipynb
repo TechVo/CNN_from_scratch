{
 "cells": [
  {
   "cell_type": "code",
   "metadata": {
    "tags": [],
    "deepnote_to_be_reexecuted": false,
    "source_hash": "4c232b7d",
    "execution_start": 1650905509732,
    "execution_millis": 3770,
    "cell_id": "c357384b-35c5-4659-b4bf-5c981a2d7935",
    "deepnote_cell_type": "code",
    "deepnote_cell_height": 495
   },
   "source": "import tensorflow as tf\nimport numpy as np\nimport pandas as pd\nfrom collections import Counter\n\nfrom tensorflow_addons.losses import WeightedKappaLoss\nfrom tensorflow.keras.applications import VGG16, ResNet50, DenseNet121, DenseNet169, ResNet50V2\nfrom tensorflow.keras.applications import densenet, resnet50, vgg16\nfrom tensorflow.keras.callbacks import EarlyStopping, ReduceLROnPlateau\nfrom tensorflow.keras.layers import *\nfrom tensorflow.keras.models import *\nfrom tensorflow.keras import Model\n\nfrom munch import DefaultMunch\n\nfrom sklearn.model_selection import train_test_split\nfrom sklearn.metrics import confusion_matrix, cohen_kappa_score, roc_auc_score, roc_curve\nfrom sklearn.utils.class_weight import compute_class_weight\nfrom tensorflow.keras.preprocessing.image import ImageDataGenerator\n\nimport wandb\nfrom wandb.keras import WandbCallback\n\nfrom datasets import load_MURA",
   "outputs": [],
   "execution_count": null
  },
  {
   "cell_type": "markdown",
   "source": "# Configuration",
   "metadata": {
    "cell_id": "144b1cedee344450b41ded2d7b8990ff",
    "tags": [],
    "is_collapsed": false,
    "deepnote_cell_type": "text-cell-h1"
   }
  },
  {
   "cell_type": "code",
   "metadata": {
    "tags": [],
    "allow_embed": false,
    "deepnote_to_be_reexecuted": false,
    "source_hash": "bdc9fa02",
    "execution_start": 1650905513509,
    "execution_millis": 9,
    "cell_id": "00001-c11b0a63-ae27-4714-a642-3f9c160cb10a",
    "deepnote_cell_type": "code",
    "deepnote_cell_height": 369
   },
   "source": "# Configuration object\nconfig_dic={\n        \"architecture\": \"ResNet50\", # options are [VGG16, ResNet50, DenseNet121, DenseNet169]\n        \"dataset\": \"mura\",\n        \"body_part\": [], # create array of body parts, which you want to include e.g.: [\"XR_WRIST\", \"XR_ELBOW\"]. Leave empty, if you want all data\n        \"image_resolution\": 224,\n        \"epochs\": 30,\n        \"batch_size\": 64,\n        \"loss_function\": \"binary_crossentropy\",\n        \"learning_rate\": 0.0001,\n        \"validation_split\": 0.2,\n        \"side note\": \"First hopefully working well test.\"\n    }\n\nconfig = DefaultMunch.fromDict(config_dic)\n\nimg_size = config.image_resolution",
   "outputs": [],
   "execution_count": null
  },
  {
   "cell_type": "code",
   "metadata": {
    "tags": [],
    "deepnote_to_be_reexecuted": false,
    "source_hash": "703854ee",
    "execution_start": 1650905513557,
    "execution_millis": 238132,
    "cell_id": "00002-3bd9826c-5640-4ab2-a820-ac55be23de37",
    "owner_user_id": "18a4eeb0-1ee6-4b69-b8df-bbbf90725f96",
    "deepnote_cell_type": "code",
    "deepnote_cell_height": 271,
    "deepnote_output_heights": [
     null,
     21,
     22,
     21
    ]
   },
   "source": "wandb.login\n\nrun = wandb.init(project=\"CNN_project\", entity=\"techvo\", config=config_dic)",
   "outputs": [
    {
     "name": "stderr",
     "text": "Failed to detect the name of this notebook, you can set it manually with the WANDB_NOTEBOOK_NAME environment variable to enable code saving.\n",
     "output_type": "stream"
    },
    {
     "output_type": "error",
     "ename": "KernelInterrupted",
     "evalue": "Execution interrupted by the Jupyter kernel.",
     "traceback": [
      "\u001b[0;31m---------------------------------------------------------------------------\u001b[0m",
      "\u001b[0;31mKernelInterrupted\u001b[0m: Execution interrupted by the Jupyter kernel."
     ]
    }
   ],
   "execution_count": null
  },
  {
   "cell_type": "markdown",
   "source": "# Setup model",
   "metadata": {
    "cell_id": "531850beb2b448c4859d9442e763283d",
    "tags": [],
    "is_collapsed": false,
    "deepnote_cell_type": "text-cell-h1"
   }
  },
  {
   "cell_type": "code",
   "metadata": {
    "tags": [],
    "deepnote_to_be_reexecuted": true,
    "source_hash": "de1adeb6",
    "execution_start": 1650899619327,
    "execution_millis": 4011,
    "cell_id": "00005-c46a118e-738a-455e-b2ff-93154c39e3db",
    "deepnote_cell_type": "code",
    "deepnote_cell_height": 620
   },
   "source": "model = {\n        \"VGG16\": VGG16,\n        \"ResNet50\": ResNet50,\n        \"DenseNet121\": DenseNet121,\n        \"DenseNet169\": DenseNet169,\n        \"ResNet50V2\": ResNet50V2\n        }\npreprocessing_function = {\n                            \"VGG16\": vgg16.preprocess_input,\n                            \"DenseNet169\": densenet.preprocess_input,\n                            \"DenseNet121\": densenet.preprocess_input,\n                            \"ResNet50\": resnet50.preprocess_input\n}\n\nbase_model = model[config.architecture](input_shape=(img_size, img_size, 3),\n                                        weights='imagenet',\n                                        include_top=False,\n                                        pooling='max' )\n\nhead_model = base_model.layers[-1].output\nhead_model = Flatten(name=\"flatten\")(head_model)\nhead_model = Dense(512, activation=\"relu\")(head_model)\nhead_model = Dropout(0.3)(head_model)\nhead_model = Dense(1, activation=\"sigmoid\")(head_model)\n\nfinal_model = Model(inputs=[base_model.inputs], outputs=[head_model])\n",
   "outputs": [
    {
     "name": "stdout",
     "text": "Downloading data from https://storage.googleapis.com/tensorflow/keras-applications/resnet/resnet50_weights_tf_dim_ordering_tf_kernels_notop.h5\n94773248/94765736 [==============================] - 1s 0us/step\n94781440/94765736 [==============================] - 1s 0us/step\n",
     "output_type": "stream"
    }
   ],
   "execution_count": null
  },
  {
   "cell_type": "code",
   "metadata": {
    "tags": [],
    "deepnote_to_be_reexecuted": true,
    "source_hash": "bf732833",
    "execution_start": 1650899623347,
    "execution_millis": 13,
    "cell_id": "00006-7837d424-e7b0-4631-a341-51fca6f7581d",
    "deepnote_cell_type": "code",
    "deepnote_cell_height": 135
   },
   "source": "final_model.compile(\n                optimizer=tf.keras.optimizers.Adam(config.learning_rate), \n                loss=config.loss_function,\n                metrics=['accuracy', 'mse'])",
   "outputs": [],
   "execution_count": null
  },
  {
   "cell_type": "markdown",
   "source": "# Load data",
   "metadata": {
    "cell_id": "ff675bb42e0a41f0b6f3872106e91021",
    "tags": [],
    "is_collapsed": false,
    "deepnote_cell_type": "text-cell-h1"
   }
  },
  {
   "cell_type": "code",
   "metadata": {
    "cell_id": "836bb3cb166546f4989e1e576af95120",
    "tags": [],
    "deepnote_to_be_reexecuted": true,
    "source_hash": "d31e4d11",
    "execution_start": 1650899623364,
    "execution_millis": 195,
    "deepnote_cell_type": "code",
    "deepnote_cell_height": 690
   },
   "source": "main_dir = \"/root/work/CNN_from_scratch/data/\"\ncsv_dir = \"/root/work/CNN_from_scratch/data/MURA-v1.1/\"\n\ndf_o = pd.read_csv(csv_dir+\"train_image_data.csv\",names=[\"path\",\"label\"], skiprows=1)\ndf_o =  df_o.astype({'path': str, 'label': str})\ndf_o",
   "outputs": [
    {
     "output_type": "execute_result",
     "execution_count": 6,
     "data": {
      "application/vnd.deepnote.dataframe.v3+json": {
       "column_count": 2,
       "row_count": 36808,
       "columns": [
        {
         "name": "path",
         "dtype": "object",
         "stats": {
          "unique_count": 36808,
          "nan_count": 0,
          "categories": [
           {
            "name": "MURA-v1.1/train/XR_SHOULDER/patient00001/study1_positive/image1.png",
            "count": 1
           },
           {
            "name": "MURA-v1.1/train/XR_SHOULDER/patient00001/study1_positive/image2.png",
            "count": 1
           },
           {
            "name": "36806 others",
            "count": 36806
           }
          ]
         }
        },
        {
         "name": "label",
         "dtype": "object",
         "stats": {
          "unique_count": 2,
          "nan_count": 0,
          "categories": [
           {
            "name": "0",
            "count": 21935
           },
           {
            "name": "1",
            "count": 14873
           }
          ]
         }
        },
        {
         "name": "_deepnote_index_column",
         "dtype": "int64"
        }
       ],
       "rows": [
        {
         "path": "MURA-v1.1/train/XR_SHOULDER/patient00001/study1_positive/image1.png",
         "label": "1",
         "_deepnote_index_column": 0
        },
        {
         "path": "MURA-v1.1/train/XR_SHOULDER/patient00001/study1_positive/image2.png",
         "label": "1",
         "_deepnote_index_column": 1
        },
        {
         "path": "MURA-v1.1/train/XR_SHOULDER/patient00001/study1_positive/image3.png",
         "label": "1",
         "_deepnote_index_column": 2
        },
        {
         "path": "MURA-v1.1/train/XR_SHOULDER/patient00002/study1_positive/image1.png",
         "label": "1",
         "_deepnote_index_column": 3
        },
        {
         "path": "MURA-v1.1/train/XR_SHOULDER/patient00002/study1_positive/image2.png",
         "label": "1",
         "_deepnote_index_column": 4
        },
        {
         "path": "MURA-v1.1/train/XR_SHOULDER/patient00002/study1_positive/image3.png",
         "label": "1",
         "_deepnote_index_column": 5
        },
        {
         "path": "MURA-v1.1/train/XR_SHOULDER/patient00003/study1_positive/image1.png",
         "label": "1",
         "_deepnote_index_column": 6
        },
        {
         "path": "MURA-v1.1/train/XR_SHOULDER/patient00003/study1_positive/image2.png",
         "label": "1",
         "_deepnote_index_column": 7
        },
        {
         "path": "MURA-v1.1/train/XR_SHOULDER/patient00003/study1_positive/image3.png",
         "label": "1",
         "_deepnote_index_column": 8
        },
        {
         "path": "MURA-v1.1/train/XR_SHOULDER/patient00004/study1_positive/image1.png",
         "label": "1",
         "_deepnote_index_column": 9
        }
       ]
      },
      "text/plain": "                                                    path label\n0      MURA-v1.1/train/XR_SHOULDER/patient00001/study...     1\n1      MURA-v1.1/train/XR_SHOULDER/patient00001/study...     1\n2      MURA-v1.1/train/XR_SHOULDER/patient00001/study...     1\n3      MURA-v1.1/train/XR_SHOULDER/patient00002/study...     1\n4      MURA-v1.1/train/XR_SHOULDER/patient00002/study...     1\n...                                                  ...   ...\n36803  MURA-v1.1/train/XR_HAND/patient11183/study1_ne...     0\n36804  MURA-v1.1/train/XR_HAND/patient11183/study1_ne...     0\n36805  MURA-v1.1/train/XR_HAND/patient11184/study1_ne...     0\n36806  MURA-v1.1/train/XR_HAND/patient11184/study1_ne...     0\n36807  MURA-v1.1/train/XR_HAND/patient11184/study1_ne...     0\n\n[36808 rows x 2 columns]",
      "text/html": "<div>\n<style scoped>\n    .dataframe tbody tr th:only-of-type {\n        vertical-align: middle;\n    }\n\n    .dataframe tbody tr th {\n        vertical-align: top;\n    }\n\n    .dataframe thead th {\n        text-align: right;\n    }\n</style>\n<table border=\"1\" class=\"dataframe\">\n  <thead>\n    <tr style=\"text-align: right;\">\n      <th></th>\n      <th>path</th>\n      <th>label</th>\n    </tr>\n  </thead>\n  <tbody>\n    <tr>\n      <th>0</th>\n      <td>MURA-v1.1/train/XR_SHOULDER/patient00001/study...</td>\n      <td>1</td>\n    </tr>\n    <tr>\n      <th>1</th>\n      <td>MURA-v1.1/train/XR_SHOULDER/patient00001/study...</td>\n      <td>1</td>\n    </tr>\n    <tr>\n      <th>2</th>\n      <td>MURA-v1.1/train/XR_SHOULDER/patient00001/study...</td>\n      <td>1</td>\n    </tr>\n    <tr>\n      <th>3</th>\n      <td>MURA-v1.1/train/XR_SHOULDER/patient00002/study...</td>\n      <td>1</td>\n    </tr>\n    <tr>\n      <th>4</th>\n      <td>MURA-v1.1/train/XR_SHOULDER/patient00002/study...</td>\n      <td>1</td>\n    </tr>\n    <tr>\n      <th>...</th>\n      <td>...</td>\n      <td>...</td>\n    </tr>\n    <tr>\n      <th>36803</th>\n      <td>MURA-v1.1/train/XR_HAND/patient11183/study1_ne...</td>\n      <td>0</td>\n    </tr>\n    <tr>\n      <th>36804</th>\n      <td>MURA-v1.1/train/XR_HAND/patient11183/study1_ne...</td>\n      <td>0</td>\n    </tr>\n    <tr>\n      <th>36805</th>\n      <td>MURA-v1.1/train/XR_HAND/patient11184/study1_ne...</td>\n      <td>0</td>\n    </tr>\n    <tr>\n      <th>36806</th>\n      <td>MURA-v1.1/train/XR_HAND/patient11184/study1_ne...</td>\n      <td>0</td>\n    </tr>\n    <tr>\n      <th>36807</th>\n      <td>MURA-v1.1/train/XR_HAND/patient11184/study1_ne...</td>\n      <td>0</td>\n    </tr>\n  </tbody>\n</table>\n<p>36808 rows × 2 columns</p>\n</div>"
     },
     "metadata": {}
    }
   ],
   "execution_count": null
  },
  {
   "cell_type": "markdown",
   "source": "## pick specific body part",
   "metadata": {
    "cell_id": "84f5f65b58d84cdb8706cb624dfd540a",
    "tags": [],
    "is_collapsed": false,
    "deepnote_cell_type": "text-cell-h2"
   }
  },
  {
   "cell_type": "code",
   "metadata": {
    "cell_id": "e65eb958257048f9b8236f4f17320d1b",
    "tags": [],
    "deepnote_to_be_reexecuted": true,
    "source_hash": "84317bd2",
    "execution_start": 1650899623566,
    "execution_millis": 38,
    "deepnote_cell_type": "code",
    "deepnote_cell_height": 117
   },
   "source": "pattern = '|'.join(config.body_part)\n\ndf = df_o[df_o['path'].str.contains(pattern)]",
   "outputs": [],
   "execution_count": null
  },
  {
   "cell_type": "markdown",
   "source": "## shuffle rows in dataframe",
   "metadata": {
    "cell_id": "e72847b6715b4a79896c25b11f614b2d",
    "tags": [],
    "is_collapsed": false,
    "deepnote_cell_type": "text-cell-h2"
   }
  },
  {
   "cell_type": "code",
   "metadata": {
    "cell_id": "a264a3e6bf7c48cc8d63e4782a78303b",
    "tags": [],
    "deepnote_to_be_reexecuted": true,
    "source_hash": "5b480fab",
    "execution_start": 1650899623604,
    "execution_millis": 119,
    "deepnote_cell_type": "code",
    "deepnote_cell_height": 618
   },
   "source": "df = df.sample(frac=1.).reset_index(drop=True)\ndf",
   "outputs": [
    {
     "output_type": "execute_result",
     "execution_count": 8,
     "data": {
      "application/vnd.deepnote.dataframe.v3+json": {
       "column_count": 2,
       "row_count": 36808,
       "columns": [
        {
         "name": "path",
         "dtype": "object",
         "stats": {
          "unique_count": 36808,
          "nan_count": 0,
          "categories": [
           {
            "name": "MURA-v1.1/train/XR_WRIST/patient07013/study1_positive/image2.png",
            "count": 1
           },
           {
            "name": "MURA-v1.1/train/XR_WRIST/patient07770/study1_negative/image1.png",
            "count": 1
           },
           {
            "name": "36806 others",
            "count": 36806
           }
          ]
         }
        },
        {
         "name": "label",
         "dtype": "object",
         "stats": {
          "unique_count": 2,
          "nan_count": 0,
          "categories": [
           {
            "name": "0",
            "count": 21935
           },
           {
            "name": "1",
            "count": 14873
           }
          ]
         }
        },
        {
         "name": "_deepnote_index_column",
         "dtype": "int64"
        }
       ],
       "rows": [
        {
         "path": "MURA-v1.1/train/XR_WRIST/patient07013/study1_positive/image2.png",
         "label": "1",
         "_deepnote_index_column": 0
        },
        {
         "path": "MURA-v1.1/train/XR_WRIST/patient07770/study1_negative/image1.png",
         "label": "0",
         "_deepnote_index_column": 1
        },
        {
         "path": "MURA-v1.1/train/XR_ELBOW/patient05184/study1_positive/image3.png",
         "label": "1",
         "_deepnote_index_column": 2
        },
        {
         "path": "MURA-v1.1/train/XR_WRIST/patient06914/study1_positive/image2.png",
         "label": "1",
         "_deepnote_index_column": 3
        },
        {
         "path": "MURA-v1.1/train/XR_HAND/patient10689/study1_negative/image2.png",
         "label": "0",
         "_deepnote_index_column": 4
        },
        {
         "path": "MURA-v1.1/train/XR_ELBOW/patient05514/study1_negative/image3.png",
         "label": "0",
         "_deepnote_index_column": 5
        },
        {
         "path": "MURA-v1.1/train/XR_WRIST/patient08024/study1_negative/image3.png",
         "label": "0",
         "_deepnote_index_column": 6
        },
        {
         "path": "MURA-v1.1/train/XR_HAND/patient00752/study1_negative/image3.png",
         "label": "0",
         "_deepnote_index_column": 7
        },
        {
         "path": "MURA-v1.1/train/XR_FINGER/patient04678/study1_negative/image1.png",
         "label": "0",
         "_deepnote_index_column": 8
        },
        {
         "path": "MURA-v1.1/train/XR_WRIST/patient08517/study1_negative/image3.png",
         "label": "0",
         "_deepnote_index_column": 9
        }
       ]
      },
      "text/plain": "                                                    path label\n0      MURA-v1.1/train/XR_WRIST/patient07013/study1_p...     1\n1      MURA-v1.1/train/XR_WRIST/patient07770/study1_n...     0\n2      MURA-v1.1/train/XR_ELBOW/patient05184/study1_p...     1\n3      MURA-v1.1/train/XR_WRIST/patient06914/study1_p...     1\n4      MURA-v1.1/train/XR_HAND/patient10689/study1_ne...     0\n...                                                  ...   ...\n36803  MURA-v1.1/train/XR_ELBOW/patient06298/study1_n...     0\n36804  MURA-v1.1/train/XR_FINGER/patient04742/study1_...     0\n36805  MURA-v1.1/train/XR_WRIST/patient07266/study1_p...     1\n36806  MURA-v1.1/train/XR_HAND/patient01159/study1_ne...     0\n36807  MURA-v1.1/train/XR_ELBOW/patient03475/study1_n...     0\n\n[36808 rows x 2 columns]",
      "text/html": "<div>\n<style scoped>\n    .dataframe tbody tr th:only-of-type {\n        vertical-align: middle;\n    }\n\n    .dataframe tbody tr th {\n        vertical-align: top;\n    }\n\n    .dataframe thead th {\n        text-align: right;\n    }\n</style>\n<table border=\"1\" class=\"dataframe\">\n  <thead>\n    <tr style=\"text-align: right;\">\n      <th></th>\n      <th>path</th>\n      <th>label</th>\n    </tr>\n  </thead>\n  <tbody>\n    <tr>\n      <th>0</th>\n      <td>MURA-v1.1/train/XR_WRIST/patient07013/study1_p...</td>\n      <td>1</td>\n    </tr>\n    <tr>\n      <th>1</th>\n      <td>MURA-v1.1/train/XR_WRIST/patient07770/study1_n...</td>\n      <td>0</td>\n    </tr>\n    <tr>\n      <th>2</th>\n      <td>MURA-v1.1/train/XR_ELBOW/patient05184/study1_p...</td>\n      <td>1</td>\n    </tr>\n    <tr>\n      <th>3</th>\n      <td>MURA-v1.1/train/XR_WRIST/patient06914/study1_p...</td>\n      <td>1</td>\n    </tr>\n    <tr>\n      <th>4</th>\n      <td>MURA-v1.1/train/XR_HAND/patient10689/study1_ne...</td>\n      <td>0</td>\n    </tr>\n    <tr>\n      <th>...</th>\n      <td>...</td>\n      <td>...</td>\n    </tr>\n    <tr>\n      <th>36803</th>\n      <td>MURA-v1.1/train/XR_ELBOW/patient06298/study1_n...</td>\n      <td>0</td>\n    </tr>\n    <tr>\n      <th>36804</th>\n      <td>MURA-v1.1/train/XR_FINGER/patient04742/study1_...</td>\n      <td>0</td>\n    </tr>\n    <tr>\n      <th>36805</th>\n      <td>MURA-v1.1/train/XR_WRIST/patient07266/study1_p...</td>\n      <td>1</td>\n    </tr>\n    <tr>\n      <th>36806</th>\n      <td>MURA-v1.1/train/XR_HAND/patient01159/study1_ne...</td>\n      <td>0</td>\n    </tr>\n    <tr>\n      <th>36807</th>\n      <td>MURA-v1.1/train/XR_ELBOW/patient03475/study1_n...</td>\n      <td>0</td>\n    </tr>\n  </tbody>\n</table>\n<p>36808 rows × 2 columns</p>\n</div>"
     },
     "metadata": {}
    }
   ],
   "execution_count": null
  },
  {
   "cell_type": "code",
   "metadata": {
    "cell_id": "ef8aecd33b3249e1876f5cc7d4165464",
    "tags": [],
    "deepnote_to_be_reexecuted": true,
    "source_hash": "b074a7ca",
    "execution_start": 1650899623721,
    "execution_millis": 2,
    "deepnote_cell_type": "code",
    "deepnote_cell_height": 118,
    "deepnote_output_heights": [
     21
    ]
   },
   "source": "np.unique(list(df['label']))",
   "outputs": [
    {
     "output_type": "execute_result",
     "execution_count": 9,
     "data": {
      "text/plain": "array(['0', '1'], dtype='<U1')"
     },
     "metadata": {}
    }
   ],
   "execution_count": null
  },
  {
   "cell_type": "markdown",
   "source": "# Set up Augmentation",
   "metadata": {
    "cell_id": "40db081ab98e4b669960a72cbf6392bb",
    "tags": [],
    "is_collapsed": false,
    "deepnote_cell_type": "text-cell-h1"
   }
  },
  {
   "cell_type": "code",
   "metadata": {
    "tags": [],
    "deepnote_to_be_reexecuted": true,
    "source_hash": "3414612a",
    "execution_start": 1650899623763,
    "execution_millis": 47885,
    "cell_id": "00009-5a34aa21-efc4-456a-899d-7db07119c007",
    "deepnote_cell_type": "code",
    "deepnote_cell_height": 708
   },
   "source": "datagen = ImageDataGenerator(\n    rotation_range= 30 ,\n    horizontal_flip= True,\n    fill_mode=\"constant\",\n    validation_split=0.2,\n    preprocessing_function = preprocessing_function[config.architecture]\n)\n\ntrain_generator = datagen.flow_from_dataframe(\n                                        df,\n                                        directory=main_dir,\n                                        x_col=\"path\",\n                                        y_col=\"label\",\n                                        target_size=(img_size,img_size),\n                                        color_mode=\"rgb\",\n                                        class_mode=\"binary\",\n                                        batch_size= config.batch_size,\n                                        subset='training',\n                                        shuffle=True\n                                        )\n\nvalidation_generator = datagen.flow_from_dataframe(\n                                        df,\n                                        directory=main_dir,\n                                        x_col=\"path\",\n                                        y_col=\"label\",\n                                        target_size=(img_size,img_size),\n                                        color_mode=\"rgb\",\n                                        class_mode=\"binary\",\n                                        batch_size= config.batch_size,\n                                        subset='validation',\n                                        shuffle=True\n                                        )",
   "outputs": [
    {
     "name": "stdout",
     "text": "Found 29447 validated image filenames belonging to 2 classes.\nFound 7361 validated image filenames belonging to 2 classes.\n",
     "output_type": "stream"
    }
   ],
   "execution_count": null
  },
  {
   "cell_type": "markdown",
   "source": "# Calculate weights",
   "metadata": {
    "cell_id": "563c46b920334e38bc85d570b501ebfd",
    "tags": [],
    "is_collapsed": false,
    "deepnote_cell_type": "text-cell-h1"
   }
  },
  {
   "cell_type": "code",
   "metadata": {
    "cell_id": "cade0c3d7a3a4a09ada629fcc02b183c",
    "tags": [],
    "deepnote_to_be_reexecuted": true,
    "source_hash": "6d22aadb",
    "execution_start": 1650899671655,
    "execution_millis": 6,
    "deepnote_cell_type": "code",
    "deepnote_cell_height": 312
   },
   "source": "counter = Counter(train_generator.classes)                          \n\ntotal =  counter[0] + counter[1]\n\nweight_for_1 = counter[0] / total\nweight_for_0 = counter[1] / total\n\nclass_weight = {0: weight_for_0, 1: weight_for_1}\n\nprint('Weight for class 0: {:.2f}'.format(weight_for_0))\nprint('Weight for class 1: {:.2f}'.format(weight_for_1))",
   "outputs": [
    {
     "name": "stdout",
     "text": "Weight for class 0: 0.40\nWeight for class 1: 0.60\n",
     "output_type": "stream"
    }
   ],
   "execution_count": null
  },
  {
   "cell_type": "code",
   "metadata": {
    "cell_id": "b440d94c0f4543f3b80a5c8337ac41dd",
    "tags": [],
    "deepnote_to_be_reexecuted": true,
    "source_hash": "54b0fc31",
    "execution_start": 1650899671700,
    "execution_millis": 6,
    "deepnote_cell_type": "code",
    "deepnote_cell_height": 118,
    "deepnote_output_heights": [
     21
    ]
   },
   "source": "class_weight",
   "outputs": [
    {
     "output_type": "execute_result",
     "execution_count": 12,
     "data": {
      "text/plain": "{0: 0.4031650083200326, 1: 0.5968349916799675}"
     },
     "metadata": {}
    }
   ],
   "execution_count": null
  },
  {
   "cell_type": "markdown",
   "source": "# Setup callbacks",
   "metadata": {
    "cell_id": "59daf399e76445b5b3483b1b3f7e707d",
    "tags": [],
    "is_collapsed": false,
    "deepnote_cell_type": "text-cell-h1"
   }
  },
  {
   "cell_type": "code",
   "metadata": {
    "tags": [],
    "deepnote_to_be_reexecuted": true,
    "source_hash": "3684a4c",
    "execution_start": 1650899671700,
    "execution_millis": 65,
    "cell_id": "00010-e519f501-1902-43a3-8176-e8c03a34b3cf",
    "deepnote_cell_type": "code",
    "deepnote_cell_height": 153
   },
   "source": "callbacks = [\n    WandbCallback(),\n    EarlyStopping(monitor='val_loss', mode='min', patience=6, restore_best_weights=True, verbose=1),\n    ReduceLROnPlateau(monitor=\"val_loss\", min_delta=0.0001, factor=0.1, patience=1, mode=\"min\", verbose=1)\n]",
   "outputs": [],
   "execution_count": null
  },
  {
   "cell_type": "markdown",
   "source": "# Fit model",
   "metadata": {
    "cell_id": "677da06ace7d42d0b3eb97dfa387d8ed",
    "tags": [],
    "is_collapsed": false,
    "deepnote_cell_type": "text-cell-h1"
   }
  },
  {
   "cell_type": "code",
   "metadata": {
    "tags": [],
    "deepnote_to_be_reexecuted": true,
    "source_hash": "9aad8bb4",
    "execution_start": 1650899671815,
    "execution_millis": 3383545,
    "cell_id": "00011-6cb20d46-303e-4150-b513-4958140ee5a8",
    "deepnote_cell_type": "code",
    "deepnote_cell_height": 2217,
    "deepnote_output_heights": [
     null,
     611,
     611
    ]
   },
   "source": "history = final_model.fit(\n                    train_generator,\n                    validation_data=validation_generator,\n                    epochs=config.epochs,\n                    class_weight=class_weight,\n                    callbacks=callbacks\n                    )",
   "outputs": [
    {
     "name": "stdout",
     "text": "Epoch 1/30\n  6/461 [..............................] - ETA: 9:14 - loss: 2.1384 - accuracy: 0.4531 - mse: 0.5050WARNING:tensorflow:Callback method `on_train_batch_end` is slow compared to the batch time (batch time: 0.4330s vs `on_train_batch_end` time: 0.6632s). Check your callbacks.\n461/461 [==============================] - ETA: 0s - loss: 0.4408 - accuracy: 0.6694 - mse: 0.2410/usr/local/lib/python3.8/dist-packages/keras/engine/functional.py:1410: CustomMaskWarning: Custom mask layers require a config and must override get_config. When loading, the custom mask layer must be passed to the custom_objects argument.\n  layer_config = serialize_layer_fn(layer)\n461/461 [==============================] - 830s 2s/step - loss: 0.4408 - accuracy: 0.6694 - mse: 0.2410 - val_loss: 0.5321 - val_accuracy: 0.7409 - val_mse: 0.1767 - _timestamp: 1650900497.0000 - _runtime: 883.0000 - lr: 1.0000e-04\nEpoch 2/30\n461/461 [==============================] - ETA: 0s - loss: 0.2486 - accuracy: 0.7548 - mse: 0.1689\nEpoch 00002: ReduceLROnPlateau reducing learning rate to 9.999999747378752e-06.\n461/461 [==============================] - 984s 2s/step - loss: 0.2486 - accuracy: 0.7548 - mse: 0.1689 - val_loss: 0.5623 - val_accuracy: 0.7182 - val_mse: 0.1889 - _timestamp: 1650901525.0000 - _runtime: 1911.0000 - lr: 1.0000e-04\nEpoch 3/30\n461/461 [==============================] - 796s 2s/step - loss: 0.2255 - accuracy: 0.7881 - mse: 0.1504 - val_loss: 0.4865 - val_accuracy: 0.7787 - val_mse: 0.1575 - _timestamp: 1650902300.0000 - _runtime: 2686.0000 - lr: 1.0000e-05\nEpoch 4/30\n219/461 [=============>................] - ETA: 5:24 - loss: 0.2202 - accuracy: 0.7942 - mse: 0.1467Exception in thread ChkStopThr:\nTraceback (most recent call last):\n  File \"/usr/lib/python3.8/threading.py\", line 932, in _bootstrap_inner\nException in thread NetStatThr:\nTraceback (most recent call last):\n  File \"/usr/lib/python3.8/threading.py\", line 932, in _bootstrap_inner\n    self.run()\n  File \"/usr/lib/python3.8/threading.py\", line 870, in run\n    self._target(*self._args, **self._kwargs)\n  File \"/usr/local/lib/python3.8/dist-packages/wandb/sdk/wandb_run.py\", line 152, in check_network_status\n    self.run()\n  File \"/usr/lib/python3.8/threading.py\", line 870, in run\n        status_response = self._interface.communicate_network_status()\n  File \"/usr/local/lib/python3.8/dist-packages/wandb/sdk/interface/interface.py\", line 125, in communicate_network_status\nself._target(*self._args, **self._kwargs)\n  File \"/usr/local/lib/python3.8/dist-packages/wandb/sdk/wandb_run.py\", line 170, in check_status\n    status_response = self._interface.communicate_stop_status()\n  File \"/usr/local/lib/python3.8/dist-packages/wandb/sdk/interface/interface.py\", line 114, in communicate_stop_status\n    resp = self._communicate_network_status(status)\n  File \"/usr/local/lib/python3.8/dist-packages/wandb/sdk/interface/interface_shared.py\", line 405, in _communicate_network_status\n        resp = self._communicate_stop_status(status)\n  File \"/usr/local/lib/python3.8/dist-packages/wandb/sdk/interface/interface_shared.py\", line 395, in _communicate_stop_status\nresp = self._communicate(req, local=True)\n  File \"/usr/local/lib/python3.8/dist-packages/wandb/sdk/interface/interface_shared.py\", line 226, in _communicate\n    resp = self._communicate(req, local=True)\n  File \"/usr/local/lib/python3.8/dist-packages/wandb/sdk/interface/interface_shared.py\", line 226, in _communicate\n    return self._communicate_async(rec, local=local).get(timeout=timeout)\n  File \"/usr/local/lib/python3.8/dist-packages/wandb/sdk/interface/interface_shared.py\", line 231, in _communicate_async\n    return self._communicate_async(rec, local=local).get(timeout=timeout)\n  File \"/usr/local/lib/python3.8/dist-packages/wandb/sdk/interface/interface_shared.py\", line 231, in _communicate_async\n    raise Exception(\"The wandb backend process has shutdown\")\nException: The wandb backend process has shutdown\n    raise Exception(\"The wandb backend process has shutdown\")\nException: The wandb backend process has shutdown\n461/461 [==============================] - ETA: 0s - loss: 0.2195 - accuracy: 0.7959 - mse: 0.1454",
     "output_type": "stream"
    },
    {
     "output_type": "error",
     "ename": "Exception",
     "evalue": "The wandb backend process has shutdown",
     "traceback": [
      "\u001b[0;31m---------------------------------------------------------------------------\u001b[0m",
      "\u001b[0;31mException\u001b[0m                                 Traceback (most recent call last)",
      "\u001b[0;32m<ipython-input-14-5b6f0f06c9e8>\u001b[0m in \u001b[0;36m<cell line: 1>\u001b[0;34m()\u001b[0m\n\u001b[0;32m----> 1\u001b[0;31m history = final_model.fit(\n\u001b[0m\u001b[1;32m      2\u001b[0m                     \u001b[0mtrain_generator\u001b[0m\u001b[0;34m,\u001b[0m\u001b[0;34m\u001b[0m\u001b[0;34m\u001b[0m\u001b[0m\n\u001b[1;32m      3\u001b[0m                     \u001b[0mvalidation_data\u001b[0m\u001b[0;34m=\u001b[0m\u001b[0mvalidation_generator\u001b[0m\u001b[0;34m,\u001b[0m\u001b[0;34m\u001b[0m\u001b[0;34m\u001b[0m\u001b[0m\n\u001b[1;32m      4\u001b[0m                     \u001b[0mepochs\u001b[0m\u001b[0;34m=\u001b[0m\u001b[0mconfig\u001b[0m\u001b[0;34m.\u001b[0m\u001b[0mepochs\u001b[0m\u001b[0;34m,\u001b[0m\u001b[0;34m\u001b[0m\u001b[0;34m\u001b[0m\u001b[0m\n\u001b[1;32m      5\u001b[0m                     \u001b[0mclass_weight\u001b[0m\u001b[0;34m=\u001b[0m\u001b[0mclass_weight\u001b[0m\u001b[0;34m,\u001b[0m\u001b[0;34m\u001b[0m\u001b[0;34m\u001b[0m\u001b[0m\n",
      "\u001b[0;32m/usr/local/lib/python3.8/dist-packages/wandb/integration/keras/keras.py\u001b[0m in \u001b[0;36mnew_v2\u001b[0;34m(*args, **kwargs)\u001b[0m\n\u001b[1;32m    161\u001b[0m             \u001b[0;32mfor\u001b[0m \u001b[0mcbk\u001b[0m \u001b[0;32min\u001b[0m \u001b[0mcbks\u001b[0m\u001b[0;34m:\u001b[0m\u001b[0;34m\u001b[0m\u001b[0;34m\u001b[0m\u001b[0m\n\u001b[1;32m    162\u001b[0m                 \u001b[0mset_wandb_attrs\u001b[0m\u001b[0;34m(\u001b[0m\u001b[0mcbk\u001b[0m\u001b[0;34m,\u001b[0m \u001b[0mval_data\u001b[0m\u001b[0;34m)\u001b[0m\u001b[0;34m\u001b[0m\u001b[0;34m\u001b[0m\u001b[0m\n\u001b[0;32m--> 163\u001b[0;31m         \u001b[0;32mreturn\u001b[0m \u001b[0mold_v2\u001b[0m\u001b[0;34m(\u001b[0m\u001b[0;34m*\u001b[0m\u001b[0margs\u001b[0m\u001b[0;34m,\u001b[0m \u001b[0;34m**\u001b[0m\u001b[0mkwargs\u001b[0m\u001b[0;34m)\u001b[0m\u001b[0;34m\u001b[0m\u001b[0;34m\u001b[0m\u001b[0m\n\u001b[0m\u001b[1;32m    164\u001b[0m \u001b[0;34m\u001b[0m\u001b[0m\n\u001b[1;32m    165\u001b[0m     \u001b[0mtraining_arrays\u001b[0m\u001b[0;34m.\u001b[0m\u001b[0morig_fit_loop\u001b[0m \u001b[0;34m=\u001b[0m \u001b[0mold_arrays\u001b[0m\u001b[0;34m\u001b[0m\u001b[0;34m\u001b[0m\u001b[0m\n",
      "\u001b[0;32m/usr/local/lib/python3.8/dist-packages/keras/utils/traceback_utils.py\u001b[0m in \u001b[0;36merror_handler\u001b[0;34m(*args, **kwargs)\u001b[0m\n\u001b[1;32m     65\u001b[0m     \u001b[0;32mexcept\u001b[0m \u001b[0mException\u001b[0m \u001b[0;32mas\u001b[0m \u001b[0me\u001b[0m\u001b[0;34m:\u001b[0m  \u001b[0;31m# pylint: disable=broad-except\u001b[0m\u001b[0;34m\u001b[0m\u001b[0;34m\u001b[0m\u001b[0m\n\u001b[1;32m     66\u001b[0m       \u001b[0mfiltered_tb\u001b[0m \u001b[0;34m=\u001b[0m \u001b[0m_process_traceback_frames\u001b[0m\u001b[0;34m(\u001b[0m\u001b[0me\u001b[0m\u001b[0;34m.\u001b[0m\u001b[0m__traceback__\u001b[0m\u001b[0;34m)\u001b[0m\u001b[0;34m\u001b[0m\u001b[0;34m\u001b[0m\u001b[0m\n\u001b[0;32m---> 67\u001b[0;31m       \u001b[0;32mraise\u001b[0m \u001b[0me\u001b[0m\u001b[0;34m.\u001b[0m\u001b[0mwith_traceback\u001b[0m\u001b[0;34m(\u001b[0m\u001b[0mfiltered_tb\u001b[0m\u001b[0;34m)\u001b[0m \u001b[0;32mfrom\u001b[0m \u001b[0;32mNone\u001b[0m\u001b[0;34m\u001b[0m\u001b[0;34m\u001b[0m\u001b[0m\n\u001b[0m\u001b[1;32m     68\u001b[0m     \u001b[0;32mfinally\u001b[0m\u001b[0;34m:\u001b[0m\u001b[0;34m\u001b[0m\u001b[0;34m\u001b[0m\u001b[0m\n\u001b[1;32m     69\u001b[0m       \u001b[0;32mdel\u001b[0m \u001b[0mfiltered_tb\u001b[0m\u001b[0;34m\u001b[0m\u001b[0;34m\u001b[0m\u001b[0m\n",
      "\u001b[0;32m/usr/local/lib/python3.8/dist-packages/wandb/integration/keras/keras.py\u001b[0m in \u001b[0;36mon_epoch_end\u001b[0;34m(self, epoch, logs)\u001b[0m\n\u001b[1;32m    565\u001b[0m             \u001b[0mself\u001b[0m\u001b[0;34m.\u001b[0m\u001b[0m_attempt_evaluation_log\u001b[0m\u001b[0;34m(\u001b[0m\u001b[0mcommit\u001b[0m\u001b[0;34m=\u001b[0m\u001b[0;32mFalse\u001b[0m\u001b[0;34m)\u001b[0m\u001b[0;34m\u001b[0m\u001b[0;34m\u001b[0m\u001b[0m\n\u001b[1;32m    566\u001b[0m \u001b[0;34m\u001b[0m\u001b[0m\n\u001b[0;32m--> 567\u001b[0;31m         \u001b[0mwandb\u001b[0m\u001b[0;34m.\u001b[0m\u001b[0mlog\u001b[0m\u001b[0;34m(\u001b[0m\u001b[0;34m{\u001b[0m\u001b[0;34m\"epoch\"\u001b[0m\u001b[0;34m:\u001b[0m \u001b[0mepoch\u001b[0m\u001b[0;34m}\u001b[0m\u001b[0;34m,\u001b[0m \u001b[0mcommit\u001b[0m\u001b[0;34m=\u001b[0m\u001b[0;32mFalse\u001b[0m\u001b[0;34m)\u001b[0m\u001b[0;34m\u001b[0m\u001b[0;34m\u001b[0m\u001b[0m\n\u001b[0m\u001b[1;32m    568\u001b[0m         \u001b[0mwandb\u001b[0m\u001b[0;34m.\u001b[0m\u001b[0mlog\u001b[0m\u001b[0;34m(\u001b[0m\u001b[0mlogs\u001b[0m\u001b[0;34m,\u001b[0m \u001b[0mcommit\u001b[0m\u001b[0;34m=\u001b[0m\u001b[0;32mTrue\u001b[0m\u001b[0;34m)\u001b[0m\u001b[0;34m\u001b[0m\u001b[0;34m\u001b[0m\u001b[0m\n\u001b[1;32m    569\u001b[0m \u001b[0;34m\u001b[0m\u001b[0m\n",
      "\u001b[0;32m/usr/local/lib/python3.8/dist-packages/wandb/sdk/wandb_run.py\u001b[0m in \u001b[0;36mwrapper\u001b[0;34m(self, *args, **kwargs)\u001b[0m\n\u001b[1;32m    254\u001b[0m                     \u001b[0;32mreturn\u001b[0m \u001b[0mcls\u001b[0m\u001b[0;34m.\u001b[0m\u001b[0mDummy\u001b[0m\u001b[0;34m(\u001b[0m\u001b[0;34m)\u001b[0m\u001b[0;34m\u001b[0m\u001b[0;34m\u001b[0m\u001b[0m\n\u001b[1;32m    255\u001b[0m \u001b[0;34m\u001b[0m\u001b[0m\n\u001b[0;32m--> 256\u001b[0;31m             \u001b[0;32mreturn\u001b[0m \u001b[0mfunc\u001b[0m\u001b[0;34m(\u001b[0m\u001b[0mself\u001b[0m\u001b[0;34m,\u001b[0m \u001b[0;34m*\u001b[0m\u001b[0margs\u001b[0m\u001b[0;34m,\u001b[0m \u001b[0;34m**\u001b[0m\u001b[0mkwargs\u001b[0m\u001b[0;34m)\u001b[0m\u001b[0;34m\u001b[0m\u001b[0;34m\u001b[0m\u001b[0m\n\u001b[0m\u001b[1;32m    257\u001b[0m \u001b[0;34m\u001b[0m\u001b[0m\n\u001b[1;32m    258\u001b[0m         \u001b[0;32mreturn\u001b[0m \u001b[0mwrapper\u001b[0m\u001b[0;34m\u001b[0m\u001b[0;34m\u001b[0m\u001b[0m\n",
      "\u001b[0;32m/usr/local/lib/python3.8/dist-packages/wandb/sdk/wandb_run.py\u001b[0m in \u001b[0;36mwrapper\u001b[0;34m(self, *args, **kwargs)\u001b[0m\n\u001b[1;32m    220\u001b[0m                     \u001b[0;32mraise\u001b[0m \u001b[0me\u001b[0m\u001b[0;34m\u001b[0m\u001b[0;34m\u001b[0m\u001b[0m\n\u001b[1;32m    221\u001b[0m                 \u001b[0mcls\u001b[0m\u001b[0;34m.\u001b[0m\u001b[0m_is_attaching\u001b[0m \u001b[0;34m=\u001b[0m \u001b[0;34m\"\"\u001b[0m\u001b[0;34m\u001b[0m\u001b[0;34m\u001b[0m\u001b[0m\n\u001b[0;32m--> 222\u001b[0;31m             \u001b[0;32mreturn\u001b[0m \u001b[0mfunc\u001b[0m\u001b[0;34m(\u001b[0m\u001b[0mself\u001b[0m\u001b[0;34m,\u001b[0m \u001b[0;34m*\u001b[0m\u001b[0margs\u001b[0m\u001b[0;34m,\u001b[0m \u001b[0;34m**\u001b[0m\u001b[0mkwargs\u001b[0m\u001b[0;34m)\u001b[0m\u001b[0;34m\u001b[0m\u001b[0;34m\u001b[0m\u001b[0m\n\u001b[0m\u001b[1;32m    223\u001b[0m \u001b[0;34m\u001b[0m\u001b[0m\n\u001b[1;32m    224\u001b[0m         \u001b[0;32mreturn\u001b[0m \u001b[0mwrapper\u001b[0m\u001b[0;34m\u001b[0m\u001b[0;34m\u001b[0m\u001b[0m\n",
      "\u001b[0;32m/usr/local/lib/python3.8/dist-packages/wandb/sdk/wandb_run.py\u001b[0m in \u001b[0;36mlog\u001b[0;34m(self, data, step, commit, sync)\u001b[0m\n\u001b[1;32m   1546\u001b[0m                 ),\n\u001b[1;32m   1547\u001b[0m             )\n\u001b[0;32m-> 1548\u001b[0;31m         \u001b[0mself\u001b[0m\u001b[0;34m.\u001b[0m\u001b[0m_log\u001b[0m\u001b[0;34m(\u001b[0m\u001b[0mdata\u001b[0m\u001b[0;34m=\u001b[0m\u001b[0mdata\u001b[0m\u001b[0;34m,\u001b[0m \u001b[0mstep\u001b[0m\u001b[0;34m=\u001b[0m\u001b[0mstep\u001b[0m\u001b[0;34m,\u001b[0m \u001b[0mcommit\u001b[0m\u001b[0;34m=\u001b[0m\u001b[0mcommit\u001b[0m\u001b[0;34m)\u001b[0m\u001b[0;34m\u001b[0m\u001b[0;34m\u001b[0m\u001b[0m\n\u001b[0m\u001b[1;32m   1549\u001b[0m \u001b[0;34m\u001b[0m\u001b[0m\n\u001b[1;32m   1550\u001b[0m     \u001b[0;34m@\u001b[0m\u001b[0m_run_decorator\u001b[0m\u001b[0;34m.\u001b[0m\u001b[0m_attach\u001b[0m\u001b[0;34m\u001b[0m\u001b[0;34m\u001b[0m\u001b[0m\n",
      "\u001b[0;32m/usr/local/lib/python3.8/dist-packages/wandb/sdk/wandb_run.py\u001b[0m in \u001b[0;36m_log\u001b[0;34m(self, data, step, commit)\u001b[0m\n\u001b[1;32m   1337\u001b[0m             \u001b[0;32mraise\u001b[0m \u001b[0mValueError\u001b[0m\u001b[0;34m(\u001b[0m\u001b[0;34m\"Key values passed to `wandb.log` must be strings.\"\u001b[0m\u001b[0;34m)\u001b[0m\u001b[0;34m\u001b[0m\u001b[0;34m\u001b[0m\u001b[0m\n\u001b[1;32m   1338\u001b[0m \u001b[0;34m\u001b[0m\u001b[0m\n\u001b[0;32m-> 1339\u001b[0;31m         \u001b[0mself\u001b[0m\u001b[0;34m.\u001b[0m\u001b[0m_partial_history_callback\u001b[0m\u001b[0;34m(\u001b[0m\u001b[0mdata\u001b[0m\u001b[0;34m,\u001b[0m \u001b[0mstep\u001b[0m\u001b[0;34m,\u001b[0m \u001b[0mcommit\u001b[0m\u001b[0;34m)\u001b[0m\u001b[0;34m\u001b[0m\u001b[0;34m\u001b[0m\u001b[0m\n\u001b[0m\u001b[1;32m   1340\u001b[0m \u001b[0;34m\u001b[0m\u001b[0m\n\u001b[1;32m   1341\u001b[0m         \u001b[0;32mif\u001b[0m \u001b[0mstep\u001b[0m \u001b[0;32mis\u001b[0m \u001b[0;32mnot\u001b[0m \u001b[0;32mNone\u001b[0m\u001b[0;34m:\u001b[0m\u001b[0;34m\u001b[0m\u001b[0;34m\u001b[0m\u001b[0m\n",
      "\u001b[0;32m/usr/local/lib/python3.8/dist-packages/wandb/sdk/wandb_run.py\u001b[0m in \u001b[0;36m_partial_history_callback\u001b[0;34m(self, row, step, commit)\u001b[0m\n\u001b[1;32m   1226\u001b[0m             \u001b[0mnot_using_tensorboard\u001b[0m \u001b[0;34m=\u001b[0m \u001b[0mlen\u001b[0m\u001b[0;34m(\u001b[0m\u001b[0mwandb\u001b[0m\u001b[0;34m.\u001b[0m\u001b[0mpatched\u001b[0m\u001b[0;34m[\u001b[0m\u001b[0;34m\"tensorboard\"\u001b[0m\u001b[0;34m]\u001b[0m\u001b[0;34m)\u001b[0m \u001b[0;34m==\u001b[0m \u001b[0;36m0\u001b[0m\u001b[0;34m\u001b[0m\u001b[0;34m\u001b[0m\u001b[0m\n\u001b[1;32m   1227\u001b[0m \u001b[0;34m\u001b[0m\u001b[0m\n\u001b[0;32m-> 1228\u001b[0;31m             self._backend.interface.publish_partial_history(\n\u001b[0m\u001b[1;32m   1229\u001b[0m                 \u001b[0mrow\u001b[0m\u001b[0;34m,\u001b[0m\u001b[0;34m\u001b[0m\u001b[0;34m\u001b[0m\u001b[0m\n\u001b[1;32m   1230\u001b[0m                 \u001b[0muser_step\u001b[0m\u001b[0;34m=\u001b[0m\u001b[0mself\u001b[0m\u001b[0;34m.\u001b[0m\u001b[0m_step\u001b[0m\u001b[0;34m,\u001b[0m\u001b[0;34m\u001b[0m\u001b[0;34m\u001b[0m\u001b[0m\n",
      "\u001b[0;32m/usr/local/lib/python3.8/dist-packages/wandb/sdk/interface/interface.py\u001b[0m in \u001b[0;36mpublish_partial_history\u001b[0;34m(self, data, user_step, step, flush, publish_step, run)\u001b[0m\n\u001b[1;32m    538\u001b[0m         \u001b[0;32mif\u001b[0m \u001b[0mflush\u001b[0m \u001b[0;32mis\u001b[0m \u001b[0;32mnot\u001b[0m \u001b[0;32mNone\u001b[0m\u001b[0;34m:\u001b[0m\u001b[0;34m\u001b[0m\u001b[0;34m\u001b[0m\u001b[0m\n\u001b[1;32m    539\u001b[0m             \u001b[0mpartial_history\u001b[0m\u001b[0;34m.\u001b[0m\u001b[0maction\u001b[0m\u001b[0;34m.\u001b[0m\u001b[0mflush\u001b[0m \u001b[0;34m=\u001b[0m \u001b[0mflush\u001b[0m\u001b[0;34m\u001b[0m\u001b[0;34m\u001b[0m\u001b[0m\n\u001b[0;32m--> 540\u001b[0;31m         \u001b[0mself\u001b[0m\u001b[0;34m.\u001b[0m\u001b[0m_publish_partial_history\u001b[0m\u001b[0;34m(\u001b[0m\u001b[0mpartial_history\u001b[0m\u001b[0;34m)\u001b[0m\u001b[0;34m\u001b[0m\u001b[0;34m\u001b[0m\u001b[0m\n\u001b[0m\u001b[1;32m    541\u001b[0m \u001b[0;34m\u001b[0m\u001b[0m\n\u001b[1;32m    542\u001b[0m     \u001b[0;34m@\u001b[0m\u001b[0mabstractmethod\u001b[0m\u001b[0;34m\u001b[0m\u001b[0;34m\u001b[0m\u001b[0m\n",
      "\u001b[0;32m/usr/local/lib/python3.8/dist-packages/wandb/sdk/interface/interface_shared.py\u001b[0m in \u001b[0;36m_publish_partial_history\u001b[0;34m(self, partial_history)\u001b[0m\n\u001b[1;32m     60\u001b[0m     ) -> None:\n\u001b[1;32m     61\u001b[0m         \u001b[0mrec\u001b[0m \u001b[0;34m=\u001b[0m \u001b[0mself\u001b[0m\u001b[0;34m.\u001b[0m\u001b[0m_make_request\u001b[0m\u001b[0;34m(\u001b[0m\u001b[0mpartial_history\u001b[0m\u001b[0;34m=\u001b[0m\u001b[0mpartial_history\u001b[0m\u001b[0;34m)\u001b[0m\u001b[0;34m\u001b[0m\u001b[0;34m\u001b[0m\u001b[0m\n\u001b[0;32m---> 62\u001b[0;31m         \u001b[0mself\u001b[0m\u001b[0;34m.\u001b[0m\u001b[0m_publish\u001b[0m\u001b[0;34m(\u001b[0m\u001b[0mrec\u001b[0m\u001b[0;34m)\u001b[0m\u001b[0;34m\u001b[0m\u001b[0;34m\u001b[0m\u001b[0m\n\u001b[0m\u001b[1;32m     63\u001b[0m \u001b[0;34m\u001b[0m\u001b[0m\n\u001b[1;32m     64\u001b[0m     \u001b[0;32mdef\u001b[0m \u001b[0m_publish_history\u001b[0m\u001b[0;34m(\u001b[0m\u001b[0mself\u001b[0m\u001b[0;34m,\u001b[0m \u001b[0mhistory\u001b[0m\u001b[0;34m:\u001b[0m \u001b[0mpb\u001b[0m\u001b[0;34m.\u001b[0m\u001b[0mHistoryRecord\u001b[0m\u001b[0;34m)\u001b[0m \u001b[0;34m->\u001b[0m \u001b[0;32mNone\u001b[0m\u001b[0;34m:\u001b[0m\u001b[0;34m\u001b[0m\u001b[0;34m\u001b[0m\u001b[0m\n",
      "\u001b[0;32m/usr/local/lib/python3.8/dist-packages/wandb/sdk/interface/interface_queue.py\u001b[0m in \u001b[0;36m_publish\u001b[0;34m(self, record, local)\u001b[0m\n\u001b[1;32m     47\u001b[0m     \u001b[0;32mdef\u001b[0m \u001b[0m_publish\u001b[0m\u001b[0;34m(\u001b[0m\u001b[0mself\u001b[0m\u001b[0;34m,\u001b[0m \u001b[0mrecord\u001b[0m\u001b[0;34m:\u001b[0m \u001b[0;34m\"pb.Record\"\u001b[0m\u001b[0;34m,\u001b[0m \u001b[0mlocal\u001b[0m\u001b[0;34m:\u001b[0m \u001b[0mbool\u001b[0m \u001b[0;34m=\u001b[0m \u001b[0;32mNone\u001b[0m\u001b[0;34m)\u001b[0m \u001b[0;34m->\u001b[0m \u001b[0;32mNone\u001b[0m\u001b[0;34m:\u001b[0m\u001b[0;34m\u001b[0m\u001b[0;34m\u001b[0m\u001b[0m\n\u001b[1;32m     48\u001b[0m         \u001b[0;32mif\u001b[0m \u001b[0mself\u001b[0m\u001b[0;34m.\u001b[0m\u001b[0m_process_check\u001b[0m \u001b[0;32mand\u001b[0m \u001b[0mself\u001b[0m\u001b[0;34m.\u001b[0m\u001b[0m_process\u001b[0m \u001b[0;32mand\u001b[0m \u001b[0;32mnot\u001b[0m \u001b[0mself\u001b[0m\u001b[0;34m.\u001b[0m\u001b[0m_process\u001b[0m\u001b[0;34m.\u001b[0m\u001b[0mis_alive\u001b[0m\u001b[0;34m(\u001b[0m\u001b[0;34m)\u001b[0m\u001b[0;34m:\u001b[0m\u001b[0;34m\u001b[0m\u001b[0;34m\u001b[0m\u001b[0m\n\u001b[0;32m---> 49\u001b[0;31m             \u001b[0;32mraise\u001b[0m \u001b[0mException\u001b[0m\u001b[0;34m(\u001b[0m\u001b[0;34m\"The wandb backend process has shutdown\"\u001b[0m\u001b[0;34m)\u001b[0m\u001b[0;34m\u001b[0m\u001b[0;34m\u001b[0m\u001b[0m\n\u001b[0m\u001b[1;32m     50\u001b[0m         \u001b[0;32mif\u001b[0m \u001b[0mlocal\u001b[0m\u001b[0;34m:\u001b[0m\u001b[0;34m\u001b[0m\u001b[0;34m\u001b[0m\u001b[0m\n\u001b[1;32m     51\u001b[0m             \u001b[0mrecord\u001b[0m\u001b[0;34m.\u001b[0m\u001b[0mcontrol\u001b[0m\u001b[0;34m.\u001b[0m\u001b[0mlocal\u001b[0m \u001b[0;34m=\u001b[0m \u001b[0mlocal\u001b[0m\u001b[0;34m\u001b[0m\u001b[0;34m\u001b[0m\u001b[0m\n",
      "\u001b[0;31mException\u001b[0m: The wandb backend process has shutdown"
     ],
     "text": "Epoch 1/30\n  6/461 [..............................] - ETA: 9:14 - loss: 2.1384 - accuracy: 0.4531 - mse: 0.5050WARNING:tensorflow:Callback method `on_train_batch_end` is slow compared to the batch time (batch time: 0.4330s vs `on_train_batch_end` time: 0.6632s). Check your callbacks.\n461/461 [==============================] - ETA: 0s - loss: 0.4408 - accuracy: 0.6694 - mse: 0.2410/usr/local/lib/python3.8/dist-packages/keras/engine/functional.py:1410: CustomMaskWarning: Custom mask layers require a config and must override get_config. When loading, the custom mask layer must be passed to the custom_objects argument.\n  layer_config = serialize_layer_fn(layer)\n461/461 [==============================] - 830s 2s/step - loss: 0.4408 - accuracy: 0.6694 - mse: 0.2410 - val_loss: 0.5321 - val_accuracy: 0.7409 - val_mse: 0.1767 - _timestamp: 1650900497.0000 - _runtime: 883.0000 - lr: 1.0000e-04\nEpoch 2/30\n461/461 [==============================] - ETA: 0s - loss: 0.2486 - accuracy: 0.7548 - mse: 0.1689\nEpoch 00002: ReduceLROnPlateau reducing learning rate to 9.999999747378752e-06.\n461/461 [==============================] - 984s 2s/step - loss: 0.2486 - accuracy: 0.7548 - mse: 0.1689 - val_loss: 0.5623 - val_accuracy: 0.7182 - val_mse: 0.1889 - _timestamp: 1650901525.0000 - _runtime: 1911.0000 - lr: 1.0000e-04\nEpoch 3/30\n461/461 [==============================] - 796s 2s/step - loss: 0.2255 - accuracy: 0.7881 - mse: 0.1504 - val_loss: 0.4865 - val_accuracy: 0.7787 - val_mse: 0.1575 - _timestamp: 1650902300.0000 - _runtime: 2686.0000 - lr: 1.0000e-05\nEpoch 4/30\n219/461 [=============>................] - ETA: 5:24 - loss: 0.2202 - accuracy: 0.7942 - mse: 0.1467Exception in thread ChkStopThr:\nTraceback (most recent call last):\n  File \"/usr/lib/python3.8/threading.py\", line 932, in _bootstrap_inner\nException in thread NetStatThr:\nTraceback (most recent call last):\n  File \"/usr/lib/python3.8/threading.py\", line 932, in _bootstrap_inner\n    self.run()\n  File \"/usr/lib/python3.8/threading.py\", line 870, in run\n    self._target(*self._args, **self._kwargs)\n  File \"/usr/local/lib/python3.8/dist-packages/wandb/sdk/wandb_run.py\", line 152, in check_network_status\n    self.run()\n  File \"/usr/lib/python3.8/threading.py\", line 870, in run\n        status_response = self._interface.communicate_network_status()\n  File \"/usr/local/lib/python3.8/dist-packages/wandb/sdk/interface/interface.py\", line 125, in communicate_network_status\nself._target(*self._args, **self._kwargs)\n  File \"/usr/local/lib/python3.8/dist-packages/wandb/sdk/wandb_run.py\", line 170, in check_status\n    status_response = self._interface.communicate_stop_status()\n  File \"/usr/local/lib/python3.8/dist-packages/wandb/sdk/interface/interface.py\", line 114, in communicate_stop_status\n    resp = self._communicate_network_status(status)\n  File \"/usr/local/lib/python3.8/dist-packages/wandb/sdk/interface/interface_shared.py\", line 405, in _communicate_network_status\n        resp = self._communicate_stop_status(status)\n  File \"/usr/local/lib/python3.8/dist-packages/wandb/sdk/interface/interface_shared.py\", line 395, in _communicate_stop_status\nresp = self._communicate(req, local=True)\n  File \"/usr/local/lib/python3.8/dist-packages/wandb/sdk/interface/interface_shared.py\", line 226, in _communicate\n    resp = self._communicate(req, local=True)\n  File \"/usr/local/lib/python3.8/dist-packages/wandb/sdk/interface/interface_shared.py\", line 226, in _communicate\n    return self._communicate_async(rec, local=local).get(timeout=timeout)\n  File \"/usr/local/lib/python3.8/dist-packages/wandb/sdk/interface/interface_shared.py\", line 231, in _communicate_async\n    return self._communicate_async(rec, local=local).get(timeout=timeout)\n  File \"/usr/local/lib/python3.8/dist-packages/wandb/sdk/interface/interface_shared.py\", line 231, in _communicate_async\n    raise Exception(\"The wandb backend process has shutdown\")\nException: The wandb backend process has shutdown\n    raise Exception(\"The wandb backend process has shutdown\")\nException: The wandb backend process has shutdown\n461/461 [==============================] - ETA: 0s - loss: 0.2195 - accuracy: 0.7959 - mse: 0.1454Error in callback <function _WandbInit._pause_backend at 0x7fc8231fe8b0> (for post_run_cell):\n"
    },
    {
     "output_type": "error",
     "ename": "Exception",
     "evalue": "The wandb backend process has shutdown",
     "traceback": [
      "\u001b[0;31m---------------------------------------------------------------------------\u001b[0m",
      "\u001b[0;31mException\u001b[0m                                 Traceback (most recent call last)",
      "\u001b[0;32m/shared-libs/python3.8/py-core/lib/python3.8/site-packages/backcall/backcall.py\u001b[0m in \u001b[0;36madapted\u001b[0;34m(*args, **kwargs)\u001b[0m\n\u001b[1;32m    102\u001b[0m                 \u001b[0mkwargs\u001b[0m\u001b[0;34m.\u001b[0m\u001b[0mpop\u001b[0m\u001b[0;34m(\u001b[0m\u001b[0mname\u001b[0m\u001b[0;34m)\u001b[0m\u001b[0;34m\u001b[0m\u001b[0;34m\u001b[0m\u001b[0m\n\u001b[1;32m    103\u001b[0m \u001b[0;31m#            print(args, kwargs, unmatched_pos, cut_positional, unmatched_kw)\u001b[0m\u001b[0;34m\u001b[0m\u001b[0;34m\u001b[0m\u001b[0;34m\u001b[0m\u001b[0m\n\u001b[0;32m--> 104\u001b[0;31m             \u001b[0;32mreturn\u001b[0m \u001b[0mcallback\u001b[0m\u001b[0;34m(\u001b[0m\u001b[0;34m*\u001b[0m\u001b[0margs\u001b[0m\u001b[0;34m,\u001b[0m \u001b[0;34m**\u001b[0m\u001b[0mkwargs\u001b[0m\u001b[0;34m)\u001b[0m\u001b[0;34m\u001b[0m\u001b[0;34m\u001b[0m\u001b[0m\n\u001b[0m\u001b[1;32m    105\u001b[0m \u001b[0;34m\u001b[0m\u001b[0m\n\u001b[1;32m    106\u001b[0m         \u001b[0;32mreturn\u001b[0m \u001b[0madapted\u001b[0m\u001b[0;34m\u001b[0m\u001b[0;34m\u001b[0m\u001b[0m\n",
      "\u001b[0;32m/usr/local/lib/python3.8/dist-packages/wandb/sdk/wandb_init.py\u001b[0m in \u001b[0;36m_pause_backend\u001b[0;34m(self)\u001b[0m\n\u001b[1;32m    353\u001b[0m                 \u001b[0mres\u001b[0m \u001b[0;34m=\u001b[0m \u001b[0mself\u001b[0m\u001b[0;34m.\u001b[0m\u001b[0mrun\u001b[0m\u001b[0;34m.\u001b[0m\u001b[0mlog_code\u001b[0m\u001b[0;34m(\u001b[0m\u001b[0mroot\u001b[0m\u001b[0;34m=\u001b[0m\u001b[0;32mNone\u001b[0m\u001b[0;34m)\u001b[0m\u001b[0;34m\u001b[0m\u001b[0;34m\u001b[0m\u001b[0m\n\u001b[1;32m    354\u001b[0m                 \u001b[0mlogger\u001b[0m\u001b[0;34m.\u001b[0m\u001b[0minfo\u001b[0m\u001b[0;34m(\u001b[0m\u001b[0;34m\"saved code: %s\"\u001b[0m\u001b[0;34m,\u001b[0m \u001b[0mres\u001b[0m\u001b[0;34m)\u001b[0m\u001b[0;34m\u001b[0m\u001b[0;34m\u001b[0m\u001b[0m\n\u001b[0;32m--> 355\u001b[0;31m             \u001b[0mself\u001b[0m\u001b[0;34m.\u001b[0m\u001b[0mbackend\u001b[0m\u001b[0;34m.\u001b[0m\u001b[0minterface\u001b[0m\u001b[0;34m.\u001b[0m\u001b[0mpublish_pause\u001b[0m\u001b[0;34m(\u001b[0m\u001b[0;34m)\u001b[0m\u001b[0;34m\u001b[0m\u001b[0;34m\u001b[0m\u001b[0m\n\u001b[0m\u001b[1;32m    356\u001b[0m \u001b[0;34m\u001b[0m\u001b[0m\n\u001b[1;32m    357\u001b[0m     \u001b[0;32mdef\u001b[0m \u001b[0m_resume_backend\u001b[0m\u001b[0;34m(\u001b[0m\u001b[0mself\u001b[0m\u001b[0;34m)\u001b[0m\u001b[0;34m:\u001b[0m\u001b[0;34m\u001b[0m\u001b[0;34m\u001b[0m\u001b[0m\n",
      "\u001b[0;32m/usr/local/lib/python3.8/dist-packages/wandb/sdk/interface/interface.py\u001b[0m in \u001b[0;36mpublish_pause\u001b[0;34m(self)\u001b[0m\n\u001b[1;32m    594\u001b[0m     \u001b[0;32mdef\u001b[0m \u001b[0mpublish_pause\u001b[0m\u001b[0;34m(\u001b[0m\u001b[0mself\u001b[0m\u001b[0;34m)\u001b[0m \u001b[0;34m->\u001b[0m \u001b[0;32mNone\u001b[0m\u001b[0;34m:\u001b[0m\u001b[0;34m\u001b[0m\u001b[0;34m\u001b[0m\u001b[0m\n\u001b[1;32m    595\u001b[0m         \u001b[0mpause\u001b[0m \u001b[0;34m=\u001b[0m \u001b[0mpb\u001b[0m\u001b[0;34m.\u001b[0m\u001b[0mPauseRequest\u001b[0m\u001b[0;34m(\u001b[0m\u001b[0;34m)\u001b[0m\u001b[0;34m\u001b[0m\u001b[0;34m\u001b[0m\u001b[0m\n\u001b[0;32m--> 596\u001b[0;31m         \u001b[0mself\u001b[0m\u001b[0;34m.\u001b[0m\u001b[0m_publish_pause\u001b[0m\u001b[0;34m(\u001b[0m\u001b[0mpause\u001b[0m\u001b[0;34m)\u001b[0m\u001b[0;34m\u001b[0m\u001b[0;34m\u001b[0m\u001b[0m\n\u001b[0m\u001b[1;32m    597\u001b[0m \u001b[0;34m\u001b[0m\u001b[0m\n\u001b[1;32m    598\u001b[0m     \u001b[0;34m@\u001b[0m\u001b[0mabstractmethod\u001b[0m\u001b[0;34m\u001b[0m\u001b[0;34m\u001b[0m\u001b[0m\n",
      "\u001b[0;32m/usr/local/lib/python3.8/dist-packages/wandb/sdk/interface/interface_shared.py\u001b[0m in \u001b[0;36m_publish_pause\u001b[0;34m(self, pause)\u001b[0m\n\u001b[1;32m    277\u001b[0m     \u001b[0;32mdef\u001b[0m \u001b[0m_publish_pause\u001b[0m\u001b[0;34m(\u001b[0m\u001b[0mself\u001b[0m\u001b[0;34m,\u001b[0m \u001b[0mpause\u001b[0m\u001b[0;34m:\u001b[0m \u001b[0mpb\u001b[0m\u001b[0;34m.\u001b[0m\u001b[0mPauseRequest\u001b[0m\u001b[0;34m)\u001b[0m \u001b[0;34m->\u001b[0m \u001b[0;32mNone\u001b[0m\u001b[0;34m:\u001b[0m\u001b[0;34m\u001b[0m\u001b[0;34m\u001b[0m\u001b[0m\n\u001b[1;32m    278\u001b[0m         \u001b[0mrec\u001b[0m \u001b[0;34m=\u001b[0m \u001b[0mself\u001b[0m\u001b[0;34m.\u001b[0m\u001b[0m_make_request\u001b[0m\u001b[0;34m(\u001b[0m\u001b[0mpause\u001b[0m\u001b[0;34m=\u001b[0m\u001b[0mpause\u001b[0m\u001b[0;34m)\u001b[0m\u001b[0;34m\u001b[0m\u001b[0;34m\u001b[0m\u001b[0m\n\u001b[0;32m--> 279\u001b[0;31m         \u001b[0mself\u001b[0m\u001b[0;34m.\u001b[0m\u001b[0m_publish\u001b[0m\u001b[0;34m(\u001b[0m\u001b[0mrec\u001b[0m\u001b[0;34m)\u001b[0m\u001b[0;34m\u001b[0m\u001b[0;34m\u001b[0m\u001b[0m\n\u001b[0m\u001b[1;32m    280\u001b[0m \u001b[0;34m\u001b[0m\u001b[0m\n\u001b[1;32m    281\u001b[0m     \u001b[0;32mdef\u001b[0m \u001b[0m_publish_resume\u001b[0m\u001b[0;34m(\u001b[0m\u001b[0mself\u001b[0m\u001b[0;34m,\u001b[0m \u001b[0mresume\u001b[0m\u001b[0;34m:\u001b[0m \u001b[0mpb\u001b[0m\u001b[0;34m.\u001b[0m\u001b[0mResumeRequest\u001b[0m\u001b[0;34m)\u001b[0m \u001b[0;34m->\u001b[0m \u001b[0;32mNone\u001b[0m\u001b[0;34m:\u001b[0m\u001b[0;34m\u001b[0m\u001b[0;34m\u001b[0m\u001b[0m\n",
      "\u001b[0;32m/usr/local/lib/python3.8/dist-packages/wandb/sdk/interface/interface_queue.py\u001b[0m in \u001b[0;36m_publish\u001b[0;34m(self, record, local)\u001b[0m\n\u001b[1;32m     47\u001b[0m     \u001b[0;32mdef\u001b[0m \u001b[0m_publish\u001b[0m\u001b[0;34m(\u001b[0m\u001b[0mself\u001b[0m\u001b[0;34m,\u001b[0m \u001b[0mrecord\u001b[0m\u001b[0;34m:\u001b[0m \u001b[0;34m\"pb.Record\"\u001b[0m\u001b[0;34m,\u001b[0m \u001b[0mlocal\u001b[0m\u001b[0;34m:\u001b[0m \u001b[0mbool\u001b[0m \u001b[0;34m=\u001b[0m \u001b[0;32mNone\u001b[0m\u001b[0;34m)\u001b[0m \u001b[0;34m->\u001b[0m \u001b[0;32mNone\u001b[0m\u001b[0;34m:\u001b[0m\u001b[0;34m\u001b[0m\u001b[0;34m\u001b[0m\u001b[0m\n\u001b[1;32m     48\u001b[0m         \u001b[0;32mif\u001b[0m \u001b[0mself\u001b[0m\u001b[0;34m.\u001b[0m\u001b[0m_process_check\u001b[0m \u001b[0;32mand\u001b[0m \u001b[0mself\u001b[0m\u001b[0;34m.\u001b[0m\u001b[0m_process\u001b[0m \u001b[0;32mand\u001b[0m \u001b[0;32mnot\u001b[0m \u001b[0mself\u001b[0m\u001b[0;34m.\u001b[0m\u001b[0m_process\u001b[0m\u001b[0;34m.\u001b[0m\u001b[0mis_alive\u001b[0m\u001b[0;34m(\u001b[0m\u001b[0;34m)\u001b[0m\u001b[0;34m:\u001b[0m\u001b[0;34m\u001b[0m\u001b[0;34m\u001b[0m\u001b[0m\n\u001b[0;32m---> 49\u001b[0;31m             \u001b[0;32mraise\u001b[0m \u001b[0mException\u001b[0m\u001b[0;34m(\u001b[0m\u001b[0;34m\"The wandb backend process has shutdown\"\u001b[0m\u001b[0;34m)\u001b[0m\u001b[0;34m\u001b[0m\u001b[0;34m\u001b[0m\u001b[0m\n\u001b[0m\u001b[1;32m     50\u001b[0m         \u001b[0;32mif\u001b[0m \u001b[0mlocal\u001b[0m\u001b[0;34m:\u001b[0m\u001b[0;34m\u001b[0m\u001b[0;34m\u001b[0m\u001b[0m\n\u001b[1;32m     51\u001b[0m             \u001b[0mrecord\u001b[0m\u001b[0;34m.\u001b[0m\u001b[0mcontrol\u001b[0m\u001b[0;34m.\u001b[0m\u001b[0mlocal\u001b[0m \u001b[0;34m=\u001b[0m \u001b[0mlocal\u001b[0m\u001b[0;34m\u001b[0m\u001b[0;34m\u001b[0m\u001b[0m\n",
      "\u001b[0;31mException\u001b[0m: The wandb backend process has shutdown"
     ]
    }
   ],
   "execution_count": null
  },
  {
   "cell_type": "markdown",
   "source": "# Evaluate model",
   "metadata": {
    "cell_id": "fb31863c38524d2797992dc47ad6b9f5",
    "tags": [],
    "is_collapsed": false,
    "deepnote_cell_type": "text-cell-h1"
   }
  },
  {
   "cell_type": "code",
   "metadata": {
    "tags": [],
    "deepnote_to_be_reexecuted": true,
    "source_hash": "4cb1beaf",
    "execution_start": 1650890632441,
    "execution_millis": 429,
    "cell_id": "00012-c113bd25-335b-4e06-b20d-1e3f70998acc",
    "deepnote_cell_type": "code",
    "deepnote_cell_height": 672,
    "deepnote_output_heights": [
     382
    ]
   },
   "source": "df_test = pd.read_csv(csv_dir+\"valid_image_data.csv\",names=[\"path\",\"label\"], skiprows=1)\ndf_test = df_test.astype('string')\n\ndf_test = df_test[df_test['path'].str.contains(pattern)]\ndf_test",
   "outputs": [
    {
     "output_type": "execute_result",
     "execution_count": 15,
     "data": {
      "application/vnd.deepnote.dataframe.v3+json": {
       "column_count": 2,
       "row_count": 3197,
       "columns": [
        {
         "name": "path",
         "dtype": "string",
         "stats": {
          "unique_count": 3197,
          "nan_count": 0,
          "categories": [
           {
            "name": "MURA-v1.1/valid/XR_WRIST/patient11185/study1_positive/image1.png",
            "count": 1
           },
           {
            "name": "MURA-v1.1/valid/XR_WRIST/patient11185/study1_positive/image2.png",
            "count": 1
           },
           {
            "name": "3195 others",
            "count": 3195
           }
          ]
         }
        },
        {
         "name": "label",
         "dtype": "string",
         "stats": {
          "unique_count": 2,
          "nan_count": 0,
          "categories": [
           {
            "name": "0",
            "count": 1667
           },
           {
            "name": "1",
            "count": 1530
           }
          ]
         }
        },
        {
         "name": "_deepnote_index_column",
         "dtype": "int64"
        }
       ],
       "rows": [
        {
         "path": "MURA-v1.1/valid/XR_WRIST/patient11185/study1_positive/image1.png",
         "label": "1",
         "_deepnote_index_column": 0
        },
        {
         "path": "MURA-v1.1/valid/XR_WRIST/patient11185/study1_positive/image2.png",
         "label": "1",
         "_deepnote_index_column": 1
        },
        {
         "path": "MURA-v1.1/valid/XR_WRIST/patient11185/study1_positive/image3.png",
         "label": "1",
         "_deepnote_index_column": 2
        },
        {
         "path": "MURA-v1.1/valid/XR_WRIST/patient11185/study1_positive/image4.png",
         "label": "1",
         "_deepnote_index_column": 3
        },
        {
         "path": "MURA-v1.1/valid/XR_WRIST/patient11186/study1_positive/image1.png",
         "label": "1",
         "_deepnote_index_column": 4
        },
        {
         "path": "MURA-v1.1/valid/XR_WRIST/patient11186/study1_positive/image2.png",
         "label": "1",
         "_deepnote_index_column": 5
        },
        {
         "path": "MURA-v1.1/valid/XR_WRIST/patient11186/study2_positive/image1.png",
         "label": "1",
         "_deepnote_index_column": 6
        },
        {
         "path": "MURA-v1.1/valid/XR_WRIST/patient11186/study2_positive/image2.png",
         "label": "1",
         "_deepnote_index_column": 7
        },
        {
         "path": "MURA-v1.1/valid/XR_WRIST/patient11186/study2_positive/image3.png",
         "label": "1",
         "_deepnote_index_column": 8
        },
        {
         "path": "MURA-v1.1/valid/XR_WRIST/patient11186/study3_positive/image1.png",
         "label": "1",
         "_deepnote_index_column": 9
        }
       ]
      },
      "text/plain": "                                                   path label\n0     MURA-v1.1/valid/XR_WRIST/patient11185/study1_p...     1\n1     MURA-v1.1/valid/XR_WRIST/patient11185/study1_p...     1\n2     MURA-v1.1/valid/XR_WRIST/patient11185/study1_p...     1\n3     MURA-v1.1/valid/XR_WRIST/patient11185/study1_p...     1\n4     MURA-v1.1/valid/XR_WRIST/patient11186/study1_p...     1\n...                                                 ...   ...\n3192  MURA-v1.1/valid/XR_FINGER/patient11967/study1_...     0\n3193  MURA-v1.1/valid/XR_FINGER/patient11967/study1_...     0\n3194  MURA-v1.1/valid/XR_FINGER/patient11738/study1_...     0\n3195  MURA-v1.1/valid/XR_FINGER/patient11738/study1_...     0\n3196  MURA-v1.1/valid/XR_FINGER/patient11738/study1_...     0\n\n[3197 rows x 2 columns]",
      "text/html": "<div>\n<style scoped>\n    .dataframe tbody tr th:only-of-type {\n        vertical-align: middle;\n    }\n\n    .dataframe tbody tr th {\n        vertical-align: top;\n    }\n\n    .dataframe thead th {\n        text-align: right;\n    }\n</style>\n<table border=\"1\" class=\"dataframe\">\n  <thead>\n    <tr style=\"text-align: right;\">\n      <th></th>\n      <th>path</th>\n      <th>label</th>\n    </tr>\n  </thead>\n  <tbody>\n    <tr>\n      <th>0</th>\n      <td>MURA-v1.1/valid/XR_WRIST/patient11185/study1_p...</td>\n      <td>1</td>\n    </tr>\n    <tr>\n      <th>1</th>\n      <td>MURA-v1.1/valid/XR_WRIST/patient11185/study1_p...</td>\n      <td>1</td>\n    </tr>\n    <tr>\n      <th>2</th>\n      <td>MURA-v1.1/valid/XR_WRIST/patient11185/study1_p...</td>\n      <td>1</td>\n    </tr>\n    <tr>\n      <th>3</th>\n      <td>MURA-v1.1/valid/XR_WRIST/patient11185/study1_p...</td>\n      <td>1</td>\n    </tr>\n    <tr>\n      <th>4</th>\n      <td>MURA-v1.1/valid/XR_WRIST/patient11186/study1_p...</td>\n      <td>1</td>\n    </tr>\n    <tr>\n      <th>...</th>\n      <td>...</td>\n      <td>...</td>\n    </tr>\n    <tr>\n      <th>3192</th>\n      <td>MURA-v1.1/valid/XR_FINGER/patient11967/study1_...</td>\n      <td>0</td>\n    </tr>\n    <tr>\n      <th>3193</th>\n      <td>MURA-v1.1/valid/XR_FINGER/patient11967/study1_...</td>\n      <td>0</td>\n    </tr>\n    <tr>\n      <th>3194</th>\n      <td>MURA-v1.1/valid/XR_FINGER/patient11738/study1_...</td>\n      <td>0</td>\n    </tr>\n    <tr>\n      <th>3195</th>\n      <td>MURA-v1.1/valid/XR_FINGER/patient11738/study1_...</td>\n      <td>0</td>\n    </tr>\n    <tr>\n      <th>3196</th>\n      <td>MURA-v1.1/valid/XR_FINGER/patient11738/study1_...</td>\n      <td>0</td>\n    </tr>\n  </tbody>\n</table>\n<p>3197 rows × 2 columns</p>\n</div>"
     },
     "metadata": {}
    }
   ],
   "execution_count": null
  },
  {
   "cell_type": "code",
   "metadata": {
    "tags": [],
    "deepnote_to_be_reexecuted": true,
    "source_hash": "37ec42f7",
    "execution_start": 1650890632457,
    "execution_millis": 5886,
    "cell_id": "00013-ade95834-5587-46a9-beae-567ec2e67a2c",
    "deepnote_cell_type": "code",
    "deepnote_cell_height": 292
   },
   "source": "datagen_test = ImageDataGenerator(preprocessing_function=densenet.preprocess_input)\ntest_generator = datagen_test.flow_from_dataframe(\n                    df_test,\n                    directory=main_dir,\n                    x_col=\"path\",\n                    y_col=\"label\",\n                    target_size=(img_size, img_size),\n                    class_mode='binary',\n                    color_mode='rgb',\n                    shuffle=False,\n                )",
   "outputs": [
    {
     "name": "stdout",
     "text": "Found 3197 validated image filenames belonging to 2 classes.\n",
     "output_type": "stream"
    }
   ],
   "execution_count": null
  },
  {
   "cell_type": "code",
   "metadata": {
    "tags": [],
    "deepnote_to_be_reexecuted": true,
    "source_hash": "c3733746",
    "execution_start": 1650890638348,
    "execution_millis": 64369,
    "cell_id": "00014-56ddb25a-c450-411d-9ef1-49713e3bdc54",
    "deepnote_cell_type": "code",
    "deepnote_cell_height": 220
   },
   "source": "score = final_model.evaluate(test_generator, verbose=1)\ntest_generator.reset()\n\ny_prediction = final_model.predict(test_generator)\ny_pred = y_prediction.copy()\ny_pred[y_pred <= 0.5] = 0\ny_pred[y_pred > 0.5] = 1",
   "outputs": [
    {
     "name": "stdout",
     "text": "100/100 [==============================] - 32s 302ms/step - loss: 0.4675 - accuracy: 0.8029 - mse: 0.1456\n",
     "output_type": "stream"
    }
   ],
   "execution_count": null
  },
  {
   "cell_type": "code",
   "metadata": {
    "cell_id": "c83d9389c541499cb4d6b1cc3aa14709",
    "tags": [],
    "deepnote_to_be_reexecuted": true,
    "source_hash": "d78c610",
    "execution_start": 1650890702761,
    "execution_millis": 0,
    "deepnote_cell_type": "code",
    "deepnote_cell_height": 81
   },
   "source": "y_test = list(df_test['label'].astype(int))",
   "outputs": [],
   "execution_count": null
  },
  {
   "cell_type": "code",
   "metadata": {
    "cell_id": "e3eb0ec28f7c43b4893d4b7a4991f692",
    "tags": [],
    "deepnote_to_be_reexecuted": true,
    "source_hash": "3935c7df",
    "execution_start": 1650890702761,
    "execution_millis": 447,
    "deepnote_cell_type": "code",
    "deepnote_cell_height": 130
   },
   "source": "kap = cohen_kappa_score(y_test , y_pred)\nprint(str(kap))",
   "outputs": [
    {
     "name": "stdout",
     "text": "0.6018188805830287\n",
     "output_type": "stream"
    }
   ],
   "execution_count": null
  },
  {
   "cell_type": "code",
   "metadata": {
    "cell_id": "858ceca163d34ab4959679922c8665dd",
    "tags": [],
    "deepnote_to_be_reexecuted": true,
    "source_hash": "40d9e3e5",
    "execution_start": 1650890702762,
    "execution_millis": 2114,
    "deepnote_cell_type": "code",
    "deepnote_cell_height": 461,
    "deepnote_output_heights": [
     21,
     258
    ]
   },
   "source": "cm = confusion_matrix(y_pred, y_test)\nimport seaborn as sn\nsn.set(font_scale=1.4)\nsn.heatmap(cm, annot=True, annot_kws={\"size\": 20},cmap=\"YlGnBu\") # font size",
   "outputs": [
    {
     "output_type": "execute_result",
     "execution_count": 20,
     "data": {
      "text/plain": "<AxesSubplot:>"
     },
     "metadata": {}
    },
    {
     "data": {
      "text/plain": "<Figure size 432x288 with 2 Axes>",
      "image/png": "[encoded data removed]"
     },
     "metadata": {
      "image/png": {
       "width": 382,
       "height": 256
      }
     },
     "output_type": "display_data"
    }
   ],
   "execution_count": null
  },
  {
   "cell_type": "markdown",
   "source": "<a style='text-decoration:none;line-height:16px;display:flex;color:#5B5B62;padding:10px;justify-content:end;' href='https://deepnote.com?utm_source=created-in-deepnote-cell&projectId=64d23a20-b5bc-41cc-930c-3bd7ede12b0c' target=\"_blank\">\n<img alt='Created in deepnote.com' style='display:inline;max-height:16px;margin:0px;margin-right:7.5px;' src='data:image/svg+xml;base64,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' > </img>\nCreated in <span style='font-weight:600;margin-left:4px;'>Deepnote</span></a>",
   "metadata": {
    "tags": [],
    "created_in_deepnote_cell": true,
    "deepnote_cell_type": "markdown"
   }
  }
 ],
 "nbformat": 4,
 "nbformat_minor": 2,
 "metadata": {
  "orig_nbformat": 2,
  "deepnote": {},
  "deepnote_notebook_id": "848d0cc2-7cff-44a4-8b5b-78652d02f825",
  "deepnote_execution_queue": []
 }
}